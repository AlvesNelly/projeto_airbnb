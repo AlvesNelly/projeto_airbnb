{
  "nbformat": 4,
  "nbformat_minor": 0,
  "metadata": {
    "colab": {
      "name": "[Buenos Aires] Analisando os Dados do Airbnb.ipynb",
      "provenance": [],
      "collapsed_sections": [],
      "include_colab_link": true
    },
    "kernelspec": {
      "name": "python3",
      "display_name": "Python 3"
    }
  },
  "cells": [
    {
      "cell_type": "markdown",
      "metadata": {
        "id": "view-in-github",
        "colab_type": "text"
      },
      "source": [
        "<a href=\"https://colab.research.google.com/github/AlvesNelly/projeto_airbnb/blob/main/%5BBuenos_Aires%5D_Analisando_os_Dados_do_Airbnb.ipynb\" target=\"_parent\"><img src=\"https://colab.research.google.com/assets/colab-badge.svg\" alt=\"Open In Colab\"/></a>"
      ]
    },
    {
      "cell_type": "markdown",
      "metadata": {
        "id": "kLI0gJtzDGuQ"
      },
      "source": [
        "<img alt=\"Colaboratory logo\" width=\"15%\" src=\"https://raw.githubusercontent.com/carlosfab/escola-data-science/master/img/novo_logo_bg_claro.png\">\n",
        "\n",
        "#### **Data Science na Prática 3.0**\n",
        "*by [sigmoidal.ai](https://sigmoidal.ai)*\n",
        "\n",
        "---\n",
        "\n",
        "# Análise dos Dados do Airbnb - *Buenos Aires*\n",
        "\n",
        "O [Airbnb](https://www.airbnb.com.br/) já é considerado como sendo a **maior empresa hoteleira da atualidade**. Ah, o detalhe é que ele **não possui nenhum hotel**!\n",
        "\n",
        "Conectando pessoas que querem viajar (e se hospedar) com anfitriões que querem alugar seus imóveis de maneira prática, o Airbnb fornece uma plataforma inovadora para tornar essa hospedagem alternativa.\n",
        "\n",
        "No final de 2018, a Startup fundada 10 anos atrás, já havia **hospedado mais de 300 milhões** de pessoas ao redor de todo o mundo, desafiando as redes hoteleiras tradicionais.\n",
        "\n",
        "Uma das iniciativas do Airbnb é disponibilizar dados do site, para algumas das principais cidades do mundo. Por meio do portal [Inside Airbnb](http://insideairbnb.com/get-the-data.html), é possível baixar uma grande quantidade de dados para desenvolver projetos e soluções de *Data Science*.\n",
        "\n",
        "<center><img alt=\"Analisando Airbnb\" width=\"10%\" src=\"https://www.area360.com.au/wp-content/uploads/2017/09/airbnb-logo.jpg\"></center>\n",
        "\n",
        "**Neste *notebook*, iremos analisar os dados referentes à cidade de Buenos Aires, na Argentina, e ver quais insights podem ser extraídos a partir de dados brutos.**"
      ]
    },
    {
      "cell_type": "markdown",
      "metadata": {
        "id": "0zxQHhIUDF_2"
      },
      "source": [
        "## 1 - Configurações iniciais e obtenção dos Dados\n"
      ]
    },
    {
      "cell_type": "code",
      "metadata": {
        "id": "Vhp2wMPgJ6zX"
      },
      "source": [
        "# Importanto bibliotecas necessárias para a análise\n",
        "import pandas as pd\n",
        "import matplotlib as mp\n",
        "from pandas.io.pytables import IndexCol\n",
        "import seaborn as sns\n"
      ],
      "execution_count": 1,
      "outputs": []
    },
    {
      "cell_type": "code",
      "metadata": {
        "id": "tUmoAT8DLQ5T"
      },
      "source": [
        "# Importando o arquivo listings.csv de Buenos Aires para um DataFrame\n",
        "df_buenos_aires = pd.read_csv('http://data.insideairbnb.com/argentina/ciudad-aut%C3%B3noma-de-buenos-aires/buenos-aires/2021-12-25/visualisations/listings.csv')"
      ],
      "execution_count": 2,
      "outputs": []
    },
    {
      "cell_type": "markdown",
      "metadata": {
        "id": "qb5By2nIMS6m"
      },
      "source": [
        "## 2 - Análise preliminar dos dados e das variáveis\n"
      ]
    },
    {
      "cell_type": "markdown",
      "metadata": {
        "id": "RYgvuebKNg8-"
      },
      "source": [
        "Para um melhor entendimento dos dados contidos no nosso DataFrame, utilizaremos um dicionário de variáveis contendo um breve resumo de cada variável existente no arquivo em questão.\n",
        "\n",
        "**Dicionário das variáveis**\n",
        "\n",
        "* ``id`` = Valor inteiro que corresponde à identificação única de cada imóvel. Por ser um valor que identifica cada imóvel, utilizaremos como **chave primária** da nossa análise (index);\n",
        "* ``name`` = Nome curto exibido como título do anúncio de cada imóvel \n",
        "* ``host_id``  = Número de identificação do proprietário do imóvel;\n",
        "*\t``neighbourhood`` = Bairro onde o imóvel esá localizado;\n",
        "* ``latitude`` = Latitude da localização do imóvel;\n",
        "*\t``longitude`` = Longitude da localização do imóvel;\n",
        "*\t``room_type`` = Especificação de espaço a ser alugado (quarto, espaço inteiro, etc.);\n",
        "*\t``price`` = Valor por noite do imóvel;\n",
        "*\t``minimum_nights`` = Quantidade mínima de noites por imóvel;\n",
        "*\t``number_of_reviews`` = Número de avaliações de cada imóvel;\n",
        "*\t``calculated_host_listings_count`` = Quantidade de anúncios de cada anfitrião;\n",
        "*\t``availability_365`` = Quantidade de dias disponíveis no ano para locação;\n",
        "*\t``number_of_reviews_ltm`` = Quantidade de avaliações dos últimos 12 meses;\n",
        "\n",
        "Antes de iniciar qualquer análise, vamos verificar a cara do nosso *dataset*, analisando as 5 primeiras entradas."
      ]
    },
    {
      "cell_type": "code",
      "metadata": {
        "id": "2iS_dae7YQtO",
        "colab": {
          "base_uri": "https://localhost:8080/",
          "height": 583
        },
        "outputId": "f94531ae-7005-470f-d378-552b56f7e949"
      },
      "source": [
        "# exibindo as 5 primeiras linhas do arquivo\n",
        "df_buenos_aires.head()"
      ],
      "execution_count": 3,
      "outputs": [
        {
          "output_type": "execute_result",
          "data": {
            "text/html": [
              "\n",
              "  <div id=\"df-1831befa-e7c1-408e-95ac-ef9f817b9b22\">\n",
              "    <div class=\"colab-df-container\">\n",
              "      <div>\n",
              "<style scoped>\n",
              "    .dataframe tbody tr th:only-of-type {\n",
              "        vertical-align: middle;\n",
              "    }\n",
              "\n",
              "    .dataframe tbody tr th {\n",
              "        vertical-align: top;\n",
              "    }\n",
              "\n",
              "    .dataframe thead th {\n",
              "        text-align: right;\n",
              "    }\n",
              "</style>\n",
              "<table border=\"1\" class=\"dataframe\">\n",
              "  <thead>\n",
              "    <tr style=\"text-align: right;\">\n",
              "      <th></th>\n",
              "      <th>id</th>\n",
              "      <th>name</th>\n",
              "      <th>host_id</th>\n",
              "      <th>host_name</th>\n",
              "      <th>neighbourhood_group</th>\n",
              "      <th>neighbourhood</th>\n",
              "      <th>latitude</th>\n",
              "      <th>longitude</th>\n",
              "      <th>room_type</th>\n",
              "      <th>price</th>\n",
              "      <th>minimum_nights</th>\n",
              "      <th>number_of_reviews</th>\n",
              "      <th>last_review</th>\n",
              "      <th>reviews_per_month</th>\n",
              "      <th>calculated_host_listings_count</th>\n",
              "      <th>availability_365</th>\n",
              "      <th>number_of_reviews_ltm</th>\n",
              "      <th>license</th>\n",
              "    </tr>\n",
              "  </thead>\n",
              "  <tbody>\n",
              "    <tr>\n",
              "      <th>0</th>\n",
              "      <td>6283</td>\n",
              "      <td>Casa Al Sur</td>\n",
              "      <td>13310</td>\n",
              "      <td>Pamela</td>\n",
              "      <td>NaN</td>\n",
              "      <td>Balvanera</td>\n",
              "      <td>-34.60523</td>\n",
              "      <td>-58.41042</td>\n",
              "      <td>Entire home/apt</td>\n",
              "      <td>5113</td>\n",
              "      <td>3</td>\n",
              "      <td>1</td>\n",
              "      <td>2011-01-31</td>\n",
              "      <td>0.01</td>\n",
              "      <td>1</td>\n",
              "      <td>365</td>\n",
              "      <td>0</td>\n",
              "      <td>NaN</td>\n",
              "    </tr>\n",
              "    <tr>\n",
              "      <th>1</th>\n",
              "      <td>11508</td>\n",
              "      <td>Amazing Luxurious Apt-Palermo Soho</td>\n",
              "      <td>42762</td>\n",
              "      <td>Candela</td>\n",
              "      <td>NaN</td>\n",
              "      <td>Palermo</td>\n",
              "      <td>-34.58184</td>\n",
              "      <td>-58.42415</td>\n",
              "      <td>Entire home/apt</td>\n",
              "      <td>6647</td>\n",
              "      <td>2</td>\n",
              "      <td>27</td>\n",
              "      <td>2021-04-03</td>\n",
              "      <td>0.23</td>\n",
              "      <td>1</td>\n",
              "      <td>236</td>\n",
              "      <td>1</td>\n",
              "      <td>NaN</td>\n",
              "    </tr>\n",
              "    <tr>\n",
              "      <th>2</th>\n",
              "      <td>12463</td>\n",
              "      <td>Room in Recoleta - awesome location</td>\n",
              "      <td>48799</td>\n",
              "      <td>Matt</td>\n",
              "      <td>NaN</td>\n",
              "      <td>Recoleta</td>\n",
              "      <td>-34.59777</td>\n",
              "      <td>-58.39664</td>\n",
              "      <td>Private room</td>\n",
              "      <td>2761</td>\n",
              "      <td>1</td>\n",
              "      <td>20</td>\n",
              "      <td>2017-12-11</td>\n",
              "      <td>0.14</td>\n",
              "      <td>1</td>\n",
              "      <td>0</td>\n",
              "      <td>0</td>\n",
              "      <td>NaN</td>\n",
              "    </tr>\n",
              "    <tr>\n",
              "      <th>3</th>\n",
              "      <td>13095</td>\n",
              "      <td>Standard Room at Palermo Viejo B&amp;B w pvt Bath</td>\n",
              "      <td>50994</td>\n",
              "      <td>Ariel</td>\n",
              "      <td>NaN</td>\n",
              "      <td>Palermo</td>\n",
              "      <td>-34.59348</td>\n",
              "      <td>-58.42949</td>\n",
              "      <td>Private room</td>\n",
              "      <td>2893</td>\n",
              "      <td>1</td>\n",
              "      <td>1</td>\n",
              "      <td>2018-12-18</td>\n",
              "      <td>0.03</td>\n",
              "      <td>7</td>\n",
              "      <td>365</td>\n",
              "      <td>0</td>\n",
              "      <td>9789</td>\n",
              "    </tr>\n",
              "    <tr>\n",
              "      <th>4</th>\n",
              "      <td>13096</td>\n",
              "      <td>Standard Room in Palermo Viejo B&amp;B</td>\n",
              "      <td>50994</td>\n",
              "      <td>Ariel</td>\n",
              "      <td>NaN</td>\n",
              "      <td>Palermo</td>\n",
              "      <td>-34.59348</td>\n",
              "      <td>-58.42949</td>\n",
              "      <td>Private room</td>\n",
              "      <td>2893</td>\n",
              "      <td>1</td>\n",
              "      <td>0</td>\n",
              "      <td>NaN</td>\n",
              "      <td>NaN</td>\n",
              "      <td>7</td>\n",
              "      <td>365</td>\n",
              "      <td>0</td>\n",
              "      <td>NaN</td>\n",
              "    </tr>\n",
              "  </tbody>\n",
              "</table>\n",
              "</div>\n",
              "      <button class=\"colab-df-convert\" onclick=\"convertToInteractive('df-1831befa-e7c1-408e-95ac-ef9f817b9b22')\"\n",
              "              title=\"Convert this dataframe to an interactive table.\"\n",
              "              style=\"display:none;\">\n",
              "        \n",
              "  <svg xmlns=\"http://www.w3.org/2000/svg\" height=\"24px\"viewBox=\"0 0 24 24\"\n",
              "       width=\"24px\">\n",
              "    <path d=\"M0 0h24v24H0V0z\" fill=\"none\"/>\n",
              "    <path d=\"M18.56 5.44l.94 2.06.94-2.06 2.06-.94-2.06-.94-.94-2.06-.94 2.06-2.06.94zm-11 1L8.5 8.5l.94-2.06 2.06-.94-2.06-.94L8.5 2.5l-.94 2.06-2.06.94zm10 10l.94 2.06.94-2.06 2.06-.94-2.06-.94-.94-2.06-.94 2.06-2.06.94z\"/><path d=\"M17.41 7.96l-1.37-1.37c-.4-.4-.92-.59-1.43-.59-.52 0-1.04.2-1.43.59L10.3 9.45l-7.72 7.72c-.78.78-.78 2.05 0 2.83L4 21.41c.39.39.9.59 1.41.59.51 0 1.02-.2 1.41-.59l7.78-7.78 2.81-2.81c.8-.78.8-2.07 0-2.86zM5.41 20L4 18.59l7.72-7.72 1.47 1.35L5.41 20z\"/>\n",
              "  </svg>\n",
              "      </button>\n",
              "      \n",
              "  <style>\n",
              "    .colab-df-container {\n",
              "      display:flex;\n",
              "      flex-wrap:wrap;\n",
              "      gap: 12px;\n",
              "    }\n",
              "\n",
              "    .colab-df-convert {\n",
              "      background-color: #E8F0FE;\n",
              "      border: none;\n",
              "      border-radius: 50%;\n",
              "      cursor: pointer;\n",
              "      display: none;\n",
              "      fill: #1967D2;\n",
              "      height: 32px;\n",
              "      padding: 0 0 0 0;\n",
              "      width: 32px;\n",
              "    }\n",
              "\n",
              "    .colab-df-convert:hover {\n",
              "      background-color: #E2EBFA;\n",
              "      box-shadow: 0px 1px 2px rgba(60, 64, 67, 0.3), 0px 1px 3px 1px rgba(60, 64, 67, 0.15);\n",
              "      fill: #174EA6;\n",
              "    }\n",
              "\n",
              "    [theme=dark] .colab-df-convert {\n",
              "      background-color: #3B4455;\n",
              "      fill: #D2E3FC;\n",
              "    }\n",
              "\n",
              "    [theme=dark] .colab-df-convert:hover {\n",
              "      background-color: #434B5C;\n",
              "      box-shadow: 0px 1px 3px 1px rgba(0, 0, 0, 0.15);\n",
              "      filter: drop-shadow(0px 1px 2px rgba(0, 0, 0, 0.3));\n",
              "      fill: #FFFFFF;\n",
              "    }\n",
              "  </style>\n",
              "\n",
              "      <script>\n",
              "        const buttonEl =\n",
              "          document.querySelector('#df-1831befa-e7c1-408e-95ac-ef9f817b9b22 button.colab-df-convert');\n",
              "        buttonEl.style.display =\n",
              "          google.colab.kernel.accessAllowed ? 'block' : 'none';\n",
              "\n",
              "        async function convertToInteractive(key) {\n",
              "          const element = document.querySelector('#df-1831befa-e7c1-408e-95ac-ef9f817b9b22');\n",
              "          const dataTable =\n",
              "            await google.colab.kernel.invokeFunction('convertToInteractive',\n",
              "                                                     [key], {});\n",
              "          if (!dataTable) return;\n",
              "\n",
              "          const docLinkHtml = 'Like what you see? Visit the ' +\n",
              "            '<a target=\"_blank\" href=https://colab.research.google.com/notebooks/data_table.ipynb>data table notebook</a>'\n",
              "            + ' to learn more about interactive tables.';\n",
              "          element.innerHTML = '';\n",
              "          dataTable['output_type'] = 'display_data';\n",
              "          await google.colab.output.renderOutput(dataTable, element);\n",
              "          const docLink = document.createElement('div');\n",
              "          docLink.innerHTML = docLinkHtml;\n",
              "          element.appendChild(docLink);\n",
              "        }\n",
              "      </script>\n",
              "    </div>\n",
              "  </div>\n",
              "  "
            ],
            "text/plain": [
              "      id                                           name  host_id host_name  \\\n",
              "0   6283                                    Casa Al Sur    13310    Pamela   \n",
              "1  11508             Amazing Luxurious Apt-Palermo Soho    42762   Candela   \n",
              "2  12463            Room in Recoleta - awesome location    48799      Matt   \n",
              "3  13095  Standard Room at Palermo Viejo B&B w pvt Bath    50994     Ariel   \n",
              "4  13096             Standard Room in Palermo Viejo B&B    50994     Ariel   \n",
              "\n",
              "   neighbourhood_group neighbourhood  latitude  longitude        room_type  \\\n",
              "0                  NaN     Balvanera -34.60523  -58.41042  Entire home/apt   \n",
              "1                  NaN       Palermo -34.58184  -58.42415  Entire home/apt   \n",
              "2                  NaN      Recoleta -34.59777  -58.39664     Private room   \n",
              "3                  NaN       Palermo -34.59348  -58.42949     Private room   \n",
              "4                  NaN       Palermo -34.59348  -58.42949     Private room   \n",
              "\n",
              "   price  minimum_nights  number_of_reviews last_review  reviews_per_month  \\\n",
              "0   5113               3                  1  2011-01-31               0.01   \n",
              "1   6647               2                 27  2021-04-03               0.23   \n",
              "2   2761               1                 20  2017-12-11               0.14   \n",
              "3   2893               1                  1  2018-12-18               0.03   \n",
              "4   2893               1                  0         NaN                NaN   \n",
              "\n",
              "   calculated_host_listings_count  availability_365  number_of_reviews_ltm  \\\n",
              "0                               1               365                      0   \n",
              "1                               1               236                      1   \n",
              "2                               1                 0                      0   \n",
              "3                               7               365                      0   \n",
              "4                               7               365                      0   \n",
              "\n",
              "  license  \n",
              "0     NaN  \n",
              "1     NaN  \n",
              "2     NaN  \n",
              "3    9789  \n",
              "4     NaN  "
            ]
          },
          "metadata": {},
          "execution_count": 3
        }
      ]
    },
    {
      "cell_type": "markdown",
      "source": [
        "É perceptível através da análise das cinco primeiras entradas que a coluna de nome `id` é uma coluna com valores únicos utilizados para identificação de cada imóvel do dataset. \n",
        "\n",
        "Por este motivo, realizaremos a indexação desta coluna como valor chave (índice) dos nossos dados."
      ],
      "metadata": {
        "id": "SLVWKZ6UqV_1"
      }
    },
    {
      "cell_type": "code",
      "source": [
        "# transformando coluna id em index\n",
        "df_buenos_aires.set_index('id', inplace=True)"
      ],
      "metadata": {
        "id": "5uAzImR-66Ph"
      },
      "execution_count": 4,
      "outputs": []
    },
    {
      "cell_type": "markdown",
      "metadata": {
        "id": "6-B_qtEaYEd-"
      },
      "source": [
        "### **Q1. Quantos atributos (variáveis) e quantas entradas o nosso conjunto de dados possui? Quais os tipos das variáveis?**"
      ]
    },
    {
      "cell_type": "code",
      "metadata": {
        "id": "TFRK0tniLV-G",
        "colab": {
          "base_uri": "https://localhost:8080/"
        },
        "outputId": "d602acce-1a83-4d84-8943-c7b0860c5711"
      },
      "source": [
        "# identificando o volume de dados do DataFrame\n",
        "df_buenos_aires.shape"
      ],
      "execution_count": 5,
      "outputs": [
        {
          "output_type": "execute_result",
          "data": {
            "text/plain": [
              "(17318, 17)"
            ]
          },
          "metadata": {},
          "execution_count": 5
        }
      ]
    },
    {
      "cell_type": "code",
      "source": [
        "# identificando as variáveis\n",
        "df_buenos_aires.info()"
      ],
      "metadata": {
        "colab": {
          "base_uri": "https://localhost:8080/"
        },
        "id": "ONu5j0nDCmkV",
        "outputId": "6ff930d9-58fc-4b98-a48e-07d448c5699d"
      },
      "execution_count": 6,
      "outputs": [
        {
          "output_type": "stream",
          "name": "stdout",
          "text": [
            "<class 'pandas.core.frame.DataFrame'>\n",
            "Int64Index: 17318 entries, 6283 to 53972049\n",
            "Data columns (total 17 columns):\n",
            " #   Column                          Non-Null Count  Dtype  \n",
            "---  ------                          --------------  -----  \n",
            " 0   name                            17313 non-null  object \n",
            " 1   host_id                         17318 non-null  int64  \n",
            " 2   host_name                       17305 non-null  object \n",
            " 3   neighbourhood_group             0 non-null      float64\n",
            " 4   neighbourhood                   17318 non-null  object \n",
            " 5   latitude                        17318 non-null  float64\n",
            " 6   longitude                       17318 non-null  float64\n",
            " 7   room_type                       17318 non-null  object \n",
            " 8   price                           17318 non-null  int64  \n",
            " 9   minimum_nights                  17318 non-null  int64  \n",
            " 10  number_of_reviews               17318 non-null  int64  \n",
            " 11  last_review                     12078 non-null  object \n",
            " 12  reviews_per_month               12078 non-null  float64\n",
            " 13  calculated_host_listings_count  17318 non-null  int64  \n",
            " 14  availability_365                17318 non-null  int64  \n",
            " 15  number_of_reviews_ltm           17318 non-null  int64  \n",
            " 16  license                         242 non-null    object \n",
            "dtypes: float64(4), int64(7), object(6)\n",
            "memory usage: 2.4+ MB\n"
          ]
        }
      ]
    },
    {
      "cell_type": "code",
      "source": [
        "# verificando as 5 primeiras entradas do dataset\n",
        "df_buenos_aires.head()"
      ],
      "metadata": {
        "colab": {
          "base_uri": "https://localhost:8080/",
          "height": 614
        },
        "id": "KaSgYbMJjXcM",
        "outputId": "3bfa858e-aab4-4e58-f701-36a1f00e453a"
      },
      "execution_count": 7,
      "outputs": [
        {
          "output_type": "execute_result",
          "data": {
            "text/html": [
              "\n",
              "  <div id=\"df-f5fca13a-c2d0-4cd9-9b80-5cec7aeea023\">\n",
              "    <div class=\"colab-df-container\">\n",
              "      <div>\n",
              "<style scoped>\n",
              "    .dataframe tbody tr th:only-of-type {\n",
              "        vertical-align: middle;\n",
              "    }\n",
              "\n",
              "    .dataframe tbody tr th {\n",
              "        vertical-align: top;\n",
              "    }\n",
              "\n",
              "    .dataframe thead th {\n",
              "        text-align: right;\n",
              "    }\n",
              "</style>\n",
              "<table border=\"1\" class=\"dataframe\">\n",
              "  <thead>\n",
              "    <tr style=\"text-align: right;\">\n",
              "      <th></th>\n",
              "      <th>name</th>\n",
              "      <th>host_id</th>\n",
              "      <th>host_name</th>\n",
              "      <th>neighbourhood_group</th>\n",
              "      <th>neighbourhood</th>\n",
              "      <th>latitude</th>\n",
              "      <th>longitude</th>\n",
              "      <th>room_type</th>\n",
              "      <th>price</th>\n",
              "      <th>minimum_nights</th>\n",
              "      <th>number_of_reviews</th>\n",
              "      <th>last_review</th>\n",
              "      <th>reviews_per_month</th>\n",
              "      <th>calculated_host_listings_count</th>\n",
              "      <th>availability_365</th>\n",
              "      <th>number_of_reviews_ltm</th>\n",
              "      <th>license</th>\n",
              "    </tr>\n",
              "    <tr>\n",
              "      <th>id</th>\n",
              "      <th></th>\n",
              "      <th></th>\n",
              "      <th></th>\n",
              "      <th></th>\n",
              "      <th></th>\n",
              "      <th></th>\n",
              "      <th></th>\n",
              "      <th></th>\n",
              "      <th></th>\n",
              "      <th></th>\n",
              "      <th></th>\n",
              "      <th></th>\n",
              "      <th></th>\n",
              "      <th></th>\n",
              "      <th></th>\n",
              "      <th></th>\n",
              "      <th></th>\n",
              "    </tr>\n",
              "  </thead>\n",
              "  <tbody>\n",
              "    <tr>\n",
              "      <th>6283</th>\n",
              "      <td>Casa Al Sur</td>\n",
              "      <td>13310</td>\n",
              "      <td>Pamela</td>\n",
              "      <td>NaN</td>\n",
              "      <td>Balvanera</td>\n",
              "      <td>-34.60523</td>\n",
              "      <td>-58.41042</td>\n",
              "      <td>Entire home/apt</td>\n",
              "      <td>5113</td>\n",
              "      <td>3</td>\n",
              "      <td>1</td>\n",
              "      <td>2011-01-31</td>\n",
              "      <td>0.01</td>\n",
              "      <td>1</td>\n",
              "      <td>365</td>\n",
              "      <td>0</td>\n",
              "      <td>NaN</td>\n",
              "    </tr>\n",
              "    <tr>\n",
              "      <th>11508</th>\n",
              "      <td>Amazing Luxurious Apt-Palermo Soho</td>\n",
              "      <td>42762</td>\n",
              "      <td>Candela</td>\n",
              "      <td>NaN</td>\n",
              "      <td>Palermo</td>\n",
              "      <td>-34.58184</td>\n",
              "      <td>-58.42415</td>\n",
              "      <td>Entire home/apt</td>\n",
              "      <td>6647</td>\n",
              "      <td>2</td>\n",
              "      <td>27</td>\n",
              "      <td>2021-04-03</td>\n",
              "      <td>0.23</td>\n",
              "      <td>1</td>\n",
              "      <td>236</td>\n",
              "      <td>1</td>\n",
              "      <td>NaN</td>\n",
              "    </tr>\n",
              "    <tr>\n",
              "      <th>12463</th>\n",
              "      <td>Room in Recoleta - awesome location</td>\n",
              "      <td>48799</td>\n",
              "      <td>Matt</td>\n",
              "      <td>NaN</td>\n",
              "      <td>Recoleta</td>\n",
              "      <td>-34.59777</td>\n",
              "      <td>-58.39664</td>\n",
              "      <td>Private room</td>\n",
              "      <td>2761</td>\n",
              "      <td>1</td>\n",
              "      <td>20</td>\n",
              "      <td>2017-12-11</td>\n",
              "      <td>0.14</td>\n",
              "      <td>1</td>\n",
              "      <td>0</td>\n",
              "      <td>0</td>\n",
              "      <td>NaN</td>\n",
              "    </tr>\n",
              "    <tr>\n",
              "      <th>13095</th>\n",
              "      <td>Standard Room at Palermo Viejo B&amp;B w pvt Bath</td>\n",
              "      <td>50994</td>\n",
              "      <td>Ariel</td>\n",
              "      <td>NaN</td>\n",
              "      <td>Palermo</td>\n",
              "      <td>-34.59348</td>\n",
              "      <td>-58.42949</td>\n",
              "      <td>Private room</td>\n",
              "      <td>2893</td>\n",
              "      <td>1</td>\n",
              "      <td>1</td>\n",
              "      <td>2018-12-18</td>\n",
              "      <td>0.03</td>\n",
              "      <td>7</td>\n",
              "      <td>365</td>\n",
              "      <td>0</td>\n",
              "      <td>9789</td>\n",
              "    </tr>\n",
              "    <tr>\n",
              "      <th>13096</th>\n",
              "      <td>Standard Room in Palermo Viejo B&amp;B</td>\n",
              "      <td>50994</td>\n",
              "      <td>Ariel</td>\n",
              "      <td>NaN</td>\n",
              "      <td>Palermo</td>\n",
              "      <td>-34.59348</td>\n",
              "      <td>-58.42949</td>\n",
              "      <td>Private room</td>\n",
              "      <td>2893</td>\n",
              "      <td>1</td>\n",
              "      <td>0</td>\n",
              "      <td>NaN</td>\n",
              "      <td>NaN</td>\n",
              "      <td>7</td>\n",
              "      <td>365</td>\n",
              "      <td>0</td>\n",
              "      <td>NaN</td>\n",
              "    </tr>\n",
              "  </tbody>\n",
              "</table>\n",
              "</div>\n",
              "      <button class=\"colab-df-convert\" onclick=\"convertToInteractive('df-f5fca13a-c2d0-4cd9-9b80-5cec7aeea023')\"\n",
              "              title=\"Convert this dataframe to an interactive table.\"\n",
              "              style=\"display:none;\">\n",
              "        \n",
              "  <svg xmlns=\"http://www.w3.org/2000/svg\" height=\"24px\"viewBox=\"0 0 24 24\"\n",
              "       width=\"24px\">\n",
              "    <path d=\"M0 0h24v24H0V0z\" fill=\"none\"/>\n",
              "    <path d=\"M18.56 5.44l.94 2.06.94-2.06 2.06-.94-2.06-.94-.94-2.06-.94 2.06-2.06.94zm-11 1L8.5 8.5l.94-2.06 2.06-.94-2.06-.94L8.5 2.5l-.94 2.06-2.06.94zm10 10l.94 2.06.94-2.06 2.06-.94-2.06-.94-.94-2.06-.94 2.06-2.06.94z\"/><path d=\"M17.41 7.96l-1.37-1.37c-.4-.4-.92-.59-1.43-.59-.52 0-1.04.2-1.43.59L10.3 9.45l-7.72 7.72c-.78.78-.78 2.05 0 2.83L4 21.41c.39.39.9.59 1.41.59.51 0 1.02-.2 1.41-.59l7.78-7.78 2.81-2.81c.8-.78.8-2.07 0-2.86zM5.41 20L4 18.59l7.72-7.72 1.47 1.35L5.41 20z\"/>\n",
              "  </svg>\n",
              "      </button>\n",
              "      \n",
              "  <style>\n",
              "    .colab-df-container {\n",
              "      display:flex;\n",
              "      flex-wrap:wrap;\n",
              "      gap: 12px;\n",
              "    }\n",
              "\n",
              "    .colab-df-convert {\n",
              "      background-color: #E8F0FE;\n",
              "      border: none;\n",
              "      border-radius: 50%;\n",
              "      cursor: pointer;\n",
              "      display: none;\n",
              "      fill: #1967D2;\n",
              "      height: 32px;\n",
              "      padding: 0 0 0 0;\n",
              "      width: 32px;\n",
              "    }\n",
              "\n",
              "    .colab-df-convert:hover {\n",
              "      background-color: #E2EBFA;\n",
              "      box-shadow: 0px 1px 2px rgba(60, 64, 67, 0.3), 0px 1px 3px 1px rgba(60, 64, 67, 0.15);\n",
              "      fill: #174EA6;\n",
              "    }\n",
              "\n",
              "    [theme=dark] .colab-df-convert {\n",
              "      background-color: #3B4455;\n",
              "      fill: #D2E3FC;\n",
              "    }\n",
              "\n",
              "    [theme=dark] .colab-df-convert:hover {\n",
              "      background-color: #434B5C;\n",
              "      box-shadow: 0px 1px 3px 1px rgba(0, 0, 0, 0.15);\n",
              "      filter: drop-shadow(0px 1px 2px rgba(0, 0, 0, 0.3));\n",
              "      fill: #FFFFFF;\n",
              "    }\n",
              "  </style>\n",
              "\n",
              "      <script>\n",
              "        const buttonEl =\n",
              "          document.querySelector('#df-f5fca13a-c2d0-4cd9-9b80-5cec7aeea023 button.colab-df-convert');\n",
              "        buttonEl.style.display =\n",
              "          google.colab.kernel.accessAllowed ? 'block' : 'none';\n",
              "\n",
              "        async function convertToInteractive(key) {\n",
              "          const element = document.querySelector('#df-f5fca13a-c2d0-4cd9-9b80-5cec7aeea023');\n",
              "          const dataTable =\n",
              "            await google.colab.kernel.invokeFunction('convertToInteractive',\n",
              "                                                     [key], {});\n",
              "          if (!dataTable) return;\n",
              "\n",
              "          const docLinkHtml = 'Like what you see? Visit the ' +\n",
              "            '<a target=\"_blank\" href=https://colab.research.google.com/notebooks/data_table.ipynb>data table notebook</a>'\n",
              "            + ' to learn more about interactive tables.';\n",
              "          element.innerHTML = '';\n",
              "          dataTable['output_type'] = 'display_data';\n",
              "          await google.colab.output.renderOutput(dataTable, element);\n",
              "          const docLink = document.createElement('div');\n",
              "          docLink.innerHTML = docLinkHtml;\n",
              "          element.appendChild(docLink);\n",
              "        }\n",
              "      </script>\n",
              "    </div>\n",
              "  </div>\n",
              "  "
            ],
            "text/plain": [
              "                                                name  host_id host_name  \\\n",
              "id                                                                        \n",
              "6283                                     Casa Al Sur    13310    Pamela   \n",
              "11508             Amazing Luxurious Apt-Palermo Soho    42762   Candela   \n",
              "12463            Room in Recoleta - awesome location    48799      Matt   \n",
              "13095  Standard Room at Palermo Viejo B&B w pvt Bath    50994     Ariel   \n",
              "13096             Standard Room in Palermo Viejo B&B    50994     Ariel   \n",
              "\n",
              "       neighbourhood_group neighbourhood  latitude  longitude  \\\n",
              "id                                                              \n",
              "6283                   NaN     Balvanera -34.60523  -58.41042   \n",
              "11508                  NaN       Palermo -34.58184  -58.42415   \n",
              "12463                  NaN      Recoleta -34.59777  -58.39664   \n",
              "13095                  NaN       Palermo -34.59348  -58.42949   \n",
              "13096                  NaN       Palermo -34.59348  -58.42949   \n",
              "\n",
              "             room_type  price  minimum_nights  number_of_reviews last_review  \\\n",
              "id                                                                             \n",
              "6283   Entire home/apt   5113               3                  1  2011-01-31   \n",
              "11508  Entire home/apt   6647               2                 27  2021-04-03   \n",
              "12463     Private room   2761               1                 20  2017-12-11   \n",
              "13095     Private room   2893               1                  1  2018-12-18   \n",
              "13096     Private room   2893               1                  0         NaN   \n",
              "\n",
              "       reviews_per_month  calculated_host_listings_count  availability_365  \\\n",
              "id                                                                           \n",
              "6283                0.01                               1               365   \n",
              "11508               0.23                               1               236   \n",
              "12463               0.14                               1                 0   \n",
              "13095               0.03                               7               365   \n",
              "13096                NaN                               7               365   \n",
              "\n",
              "       number_of_reviews_ltm license  \n",
              "id                                    \n",
              "6283                       0     NaN  \n",
              "11508                      1     NaN  \n",
              "12463                      0     NaN  \n",
              "13095                      0    9789  \n",
              "13096                      0     NaN  "
            ]
          },
          "metadata": {},
          "execution_count": 7
        }
      ]
    },
    {
      "cell_type": "markdown",
      "metadata": {
        "id": "yz1urSUGW9iE"
      },
      "source": [
        "### **Q2. Qual a porcentagem de valores ausentes no *dataset*?**"
      ]
    },
    {
      "cell_type": "code",
      "metadata": {
        "id": "plk2FjbCXOqP",
        "colab": {
          "base_uri": "https://localhost:8080/"
        },
        "outputId": "16c50dfd-a07c-48ca-c9e4-a3c73ad1437d"
      },
      "source": [
        "# ordenando em ordem decrescente as variáveis por seus valores ausentes\n",
        "df_buenos_aires.isnull().sum().sort_values(ascending=False)"
      ],
      "execution_count": 8,
      "outputs": [
        {
          "output_type": "execute_result",
          "data": {
            "text/plain": [
              "neighbourhood_group               17318\n",
              "license                           17076\n",
              "last_review                        5240\n",
              "reviews_per_month                  5240\n",
              "host_name                            13\n",
              "name                                  5\n",
              "longitude                             0\n",
              "room_type                             0\n",
              "host_id                               0\n",
              "minimum_nights                        0\n",
              "number_of_reviews                     0\n",
              "latitude                              0\n",
              "neighbourhood                         0\n",
              "calculated_host_listings_count        0\n",
              "availability_365                      0\n",
              "number_of_reviews_ltm                 0\n",
              "price                                 0\n",
              "dtype: int64"
            ]
          },
          "metadata": {},
          "execution_count": 8
        }
      ]
    },
    {
      "cell_type": "code",
      "source": [
        "# identificando quantidade de dados ausentes/nulos na coluna neighbourhood_group\n",
        "df_buenos_aires.neighbourhood_group.isnull().sum() / df_buenos_aires.shape[0]\n"
      ],
      "metadata": {
        "colab": {
          "base_uri": "https://localhost:8080/"
        },
        "id": "piCDCDSWlaFc",
        "outputId": "d4234da7-4dbb-4a3c-9370-98e8a4a33abc"
      },
      "execution_count": 9,
      "outputs": [
        {
          "output_type": "execute_result",
          "data": {
            "text/plain": [
              "1.0"
            ]
          },
          "metadata": {},
          "execution_count": 9
        }
      ]
    },
    {
      "cell_type": "code",
      "source": [
        "# identificando quantidade de dados ausentes/nulos na coluna license\n",
        "df_buenos_aires.license.isnull().sum() / df_buenos_aires.shape[0]"
      ],
      "metadata": {
        "colab": {
          "base_uri": "https://localhost:8080/"
        },
        "id": "f_UOP4RTtL1w",
        "outputId": "4f642b80-1943-4cdf-dbda-a63a66b76e09"
      },
      "execution_count": 10,
      "outputs": [
        {
          "output_type": "execute_result",
          "data": {
            "text/plain": [
              "0.9860261000115487"
            ]
          },
          "metadata": {},
          "execution_count": 10
        }
      ]
    },
    {
      "cell_type": "code",
      "source": [
        "# identificando quantidade de dados ausentes/nulos na coluna last_review\n",
        "df_buenos_aires.last_review.isnull().sum() / df_buenos_aires.shape[0]"
      ],
      "metadata": {
        "colab": {
          "base_uri": "https://localhost:8080/"
        },
        "id": "G56VzCdLwtd8",
        "outputId": "336277ca-650f-4ea6-b057-2ab8d88c35fd"
      },
      "execution_count": 11,
      "outputs": [
        {
          "output_type": "execute_result",
          "data": {
            "text/plain": [
              "0.30257535512183853"
            ]
          },
          "metadata": {},
          "execution_count": 11
        }
      ]
    },
    {
      "cell_type": "code",
      "source": [
        "# identificando quantidade de dados ausentes/nulos na coluna reviews_per_month\n",
        "df_buenos_aires.reviews_per_month.isnull().sum() / df_buenos_aires.shape[0]"
      ],
      "metadata": {
        "colab": {
          "base_uri": "https://localhost:8080/"
        },
        "id": "79MKbTHIwtL2",
        "outputId": "77197826-e753-4537-b9bd-ffeccbc8c349"
      },
      "execution_count": 12,
      "outputs": [
        {
          "output_type": "execute_result",
          "data": {
            "text/plain": [
              "0.30257535512183853"
            ]
          },
          "metadata": {},
          "execution_count": 12
        }
      ]
    },
    {
      "cell_type": "markdown",
      "source": [
        "## 3 - Análise e Limpeza dos dados Ausentes"
      ],
      "metadata": {
        "id": "3TQlXEc5tidt"
      }
    },
    {
      "cell_type": "markdown",
      "source": [
        "### 3.1 - Análise de dados ausentes\n",
        "\n",
        "Nosso dataset possuis variáveis com grande quantidade de dados ausentes, onde:\n",
        "* Coluna ``neighbourhood_group`` contém **100%** dos seus dados ausentes/nulos;\n",
        "* Coluna ``license`` contém **98%** de dados ausentes/nulos;\n",
        "* Coluna ``last_review`` contém **30%** de dados ausentes/nulos;\n",
        "* Coluna ``reviews_per_month`` contém **30%** de dados ausentes/nulos;\n",
        "* Coluna ``host_names`` contém apenas **13** entradas ausentes/nulas;\n",
        "* Coluna ``name`` contém apenas **5** entradas ausentes/nulas;\n",
        "\n",
        "Embora estes dados não gerem impacto real à nossa análise, dado que as colunas com alta porcentagem de ausência não serão utilizadas, a nível de performance e visualização, essas informações faltantes poderiam diminuir a qualidade dos processamentos caso existissem uma maior quantidade de linhas/dados.\n",
        "\n",
        "Por este motivo realizaremos a tratativa das colunas com muitos valores ausentes e/ou colunas que não serão análisadas neste projeto."
      ],
      "metadata": {
        "id": "zi1hTidItqb2"
      }
    },
    {
      "cell_type": "markdown",
      "source": [
        "### 3.2 - Tratando dados Ausentes"
      ],
      "metadata": {
        "id": "lPtURI7u2QQR"
      }
    },
    {
      "cell_type": "markdown",
      "source": [
        "Para otimizar nosso dataset, realizaremos a exclusão das colunas ``neighbourhood_group`` e ``license`` por conterem mais de 90% de dados ausentes.\n",
        "\n",
        "Para esta análise, também não necessitaremos das colunas  ``last_review`` e ``reviews_per_month``. Por este motivo também realizaremos a exclusão dessas informações.\n",
        "\n",
        "Com relação à coluna ``host_name`` analisaremos se existe indícios do nome do anfitrião pesquisando ocorrência de um mesmo ``host_id`` que contenha valores na coluna de nome do anfitrião. Em caso **afirmativo** substituiremos o valor nulo pelo nome do anfitrião."
      ],
      "metadata": {
        "id": "jXQCSq342Xau"
      }
    },
    {
      "cell_type": "code",
      "source": [
        "# realizando a exclusão da coluna neighbourhood_group\n",
        "df_buenos_aires = df_buenos_aires.drop('neighbourhood_group', axis=1)\n",
        "\n",
        "# realizando a exclusão da coluna license\n",
        "df_buenos_aires = df_buenos_aires.drop('license', axis=1)\n",
        "\n",
        "# realizando a exclusão da coluna last_review\n",
        "df_buenos_aires = df_buenos_aires.drop('last_review', axis=1)\n",
        "\n",
        "# realizando a exclusão da coluna reviews_per_month\n",
        "df_buenos_aires = df_buenos_aires.drop('reviews_per_month', axis=1)\n"
      ],
      "metadata": {
        "id": "Uu7ts23b2cs-"
      },
      "execution_count": 13,
      "outputs": []
    },
    {
      "cell_type": "code",
      "source": [
        "# verificando se a exclusão das colunas ocorreu de maneira satisfatória\n",
        "df_buenos_aires.head()"
      ],
      "metadata": {
        "colab": {
          "base_uri": "https://localhost:8080/",
          "height": 614
        },
        "id": "cSDXVMFzsvxa",
        "outputId": "d6200b9f-0032-4476-c076-2fd85d606afb"
      },
      "execution_count": 14,
      "outputs": [
        {
          "output_type": "execute_result",
          "data": {
            "text/html": [
              "\n",
              "  <div id=\"df-73086bbf-885b-49a4-8323-5e7be217e805\">\n",
              "    <div class=\"colab-df-container\">\n",
              "      <div>\n",
              "<style scoped>\n",
              "    .dataframe tbody tr th:only-of-type {\n",
              "        vertical-align: middle;\n",
              "    }\n",
              "\n",
              "    .dataframe tbody tr th {\n",
              "        vertical-align: top;\n",
              "    }\n",
              "\n",
              "    .dataframe thead th {\n",
              "        text-align: right;\n",
              "    }\n",
              "</style>\n",
              "<table border=\"1\" class=\"dataframe\">\n",
              "  <thead>\n",
              "    <tr style=\"text-align: right;\">\n",
              "      <th></th>\n",
              "      <th>name</th>\n",
              "      <th>host_id</th>\n",
              "      <th>host_name</th>\n",
              "      <th>neighbourhood</th>\n",
              "      <th>latitude</th>\n",
              "      <th>longitude</th>\n",
              "      <th>room_type</th>\n",
              "      <th>price</th>\n",
              "      <th>minimum_nights</th>\n",
              "      <th>number_of_reviews</th>\n",
              "      <th>calculated_host_listings_count</th>\n",
              "      <th>availability_365</th>\n",
              "      <th>number_of_reviews_ltm</th>\n",
              "    </tr>\n",
              "    <tr>\n",
              "      <th>id</th>\n",
              "      <th></th>\n",
              "      <th></th>\n",
              "      <th></th>\n",
              "      <th></th>\n",
              "      <th></th>\n",
              "      <th></th>\n",
              "      <th></th>\n",
              "      <th></th>\n",
              "      <th></th>\n",
              "      <th></th>\n",
              "      <th></th>\n",
              "      <th></th>\n",
              "      <th></th>\n",
              "    </tr>\n",
              "  </thead>\n",
              "  <tbody>\n",
              "    <tr>\n",
              "      <th>6283</th>\n",
              "      <td>Casa Al Sur</td>\n",
              "      <td>13310</td>\n",
              "      <td>Pamela</td>\n",
              "      <td>Balvanera</td>\n",
              "      <td>-34.60523</td>\n",
              "      <td>-58.41042</td>\n",
              "      <td>Entire home/apt</td>\n",
              "      <td>5113</td>\n",
              "      <td>3</td>\n",
              "      <td>1</td>\n",
              "      <td>1</td>\n",
              "      <td>365</td>\n",
              "      <td>0</td>\n",
              "    </tr>\n",
              "    <tr>\n",
              "      <th>11508</th>\n",
              "      <td>Amazing Luxurious Apt-Palermo Soho</td>\n",
              "      <td>42762</td>\n",
              "      <td>Candela</td>\n",
              "      <td>Palermo</td>\n",
              "      <td>-34.58184</td>\n",
              "      <td>-58.42415</td>\n",
              "      <td>Entire home/apt</td>\n",
              "      <td>6647</td>\n",
              "      <td>2</td>\n",
              "      <td>27</td>\n",
              "      <td>1</td>\n",
              "      <td>236</td>\n",
              "      <td>1</td>\n",
              "    </tr>\n",
              "    <tr>\n",
              "      <th>12463</th>\n",
              "      <td>Room in Recoleta - awesome location</td>\n",
              "      <td>48799</td>\n",
              "      <td>Matt</td>\n",
              "      <td>Recoleta</td>\n",
              "      <td>-34.59777</td>\n",
              "      <td>-58.39664</td>\n",
              "      <td>Private room</td>\n",
              "      <td>2761</td>\n",
              "      <td>1</td>\n",
              "      <td>20</td>\n",
              "      <td>1</td>\n",
              "      <td>0</td>\n",
              "      <td>0</td>\n",
              "    </tr>\n",
              "    <tr>\n",
              "      <th>13095</th>\n",
              "      <td>Standard Room at Palermo Viejo B&amp;B w pvt Bath</td>\n",
              "      <td>50994</td>\n",
              "      <td>Ariel</td>\n",
              "      <td>Palermo</td>\n",
              "      <td>-34.59348</td>\n",
              "      <td>-58.42949</td>\n",
              "      <td>Private room</td>\n",
              "      <td>2893</td>\n",
              "      <td>1</td>\n",
              "      <td>1</td>\n",
              "      <td>7</td>\n",
              "      <td>365</td>\n",
              "      <td>0</td>\n",
              "    </tr>\n",
              "    <tr>\n",
              "      <th>13096</th>\n",
              "      <td>Standard Room in Palermo Viejo B&amp;B</td>\n",
              "      <td>50994</td>\n",
              "      <td>Ariel</td>\n",
              "      <td>Palermo</td>\n",
              "      <td>-34.59348</td>\n",
              "      <td>-58.42949</td>\n",
              "      <td>Private room</td>\n",
              "      <td>2893</td>\n",
              "      <td>1</td>\n",
              "      <td>0</td>\n",
              "      <td>7</td>\n",
              "      <td>365</td>\n",
              "      <td>0</td>\n",
              "    </tr>\n",
              "  </tbody>\n",
              "</table>\n",
              "</div>\n",
              "      <button class=\"colab-df-convert\" onclick=\"convertToInteractive('df-73086bbf-885b-49a4-8323-5e7be217e805')\"\n",
              "              title=\"Convert this dataframe to an interactive table.\"\n",
              "              style=\"display:none;\">\n",
              "        \n",
              "  <svg xmlns=\"http://www.w3.org/2000/svg\" height=\"24px\"viewBox=\"0 0 24 24\"\n",
              "       width=\"24px\">\n",
              "    <path d=\"M0 0h24v24H0V0z\" fill=\"none\"/>\n",
              "    <path d=\"M18.56 5.44l.94 2.06.94-2.06 2.06-.94-2.06-.94-.94-2.06-.94 2.06-2.06.94zm-11 1L8.5 8.5l.94-2.06 2.06-.94-2.06-.94L8.5 2.5l-.94 2.06-2.06.94zm10 10l.94 2.06.94-2.06 2.06-.94-2.06-.94-.94-2.06-.94 2.06-2.06.94z\"/><path d=\"M17.41 7.96l-1.37-1.37c-.4-.4-.92-.59-1.43-.59-.52 0-1.04.2-1.43.59L10.3 9.45l-7.72 7.72c-.78.78-.78 2.05 0 2.83L4 21.41c.39.39.9.59 1.41.59.51 0 1.02-.2 1.41-.59l7.78-7.78 2.81-2.81c.8-.78.8-2.07 0-2.86zM5.41 20L4 18.59l7.72-7.72 1.47 1.35L5.41 20z\"/>\n",
              "  </svg>\n",
              "      </button>\n",
              "      \n",
              "  <style>\n",
              "    .colab-df-container {\n",
              "      display:flex;\n",
              "      flex-wrap:wrap;\n",
              "      gap: 12px;\n",
              "    }\n",
              "\n",
              "    .colab-df-convert {\n",
              "      background-color: #E8F0FE;\n",
              "      border: none;\n",
              "      border-radius: 50%;\n",
              "      cursor: pointer;\n",
              "      display: none;\n",
              "      fill: #1967D2;\n",
              "      height: 32px;\n",
              "      padding: 0 0 0 0;\n",
              "      width: 32px;\n",
              "    }\n",
              "\n",
              "    .colab-df-convert:hover {\n",
              "      background-color: #E2EBFA;\n",
              "      box-shadow: 0px 1px 2px rgba(60, 64, 67, 0.3), 0px 1px 3px 1px rgba(60, 64, 67, 0.15);\n",
              "      fill: #174EA6;\n",
              "    }\n",
              "\n",
              "    [theme=dark] .colab-df-convert {\n",
              "      background-color: #3B4455;\n",
              "      fill: #D2E3FC;\n",
              "    }\n",
              "\n",
              "    [theme=dark] .colab-df-convert:hover {\n",
              "      background-color: #434B5C;\n",
              "      box-shadow: 0px 1px 3px 1px rgba(0, 0, 0, 0.15);\n",
              "      filter: drop-shadow(0px 1px 2px rgba(0, 0, 0, 0.3));\n",
              "      fill: #FFFFFF;\n",
              "    }\n",
              "  </style>\n",
              "\n",
              "      <script>\n",
              "        const buttonEl =\n",
              "          document.querySelector('#df-73086bbf-885b-49a4-8323-5e7be217e805 button.colab-df-convert');\n",
              "        buttonEl.style.display =\n",
              "          google.colab.kernel.accessAllowed ? 'block' : 'none';\n",
              "\n",
              "        async function convertToInteractive(key) {\n",
              "          const element = document.querySelector('#df-73086bbf-885b-49a4-8323-5e7be217e805');\n",
              "          const dataTable =\n",
              "            await google.colab.kernel.invokeFunction('convertToInteractive',\n",
              "                                                     [key], {});\n",
              "          if (!dataTable) return;\n",
              "\n",
              "          const docLinkHtml = 'Like what you see? Visit the ' +\n",
              "            '<a target=\"_blank\" href=https://colab.research.google.com/notebooks/data_table.ipynb>data table notebook</a>'\n",
              "            + ' to learn more about interactive tables.';\n",
              "          element.innerHTML = '';\n",
              "          dataTable['output_type'] = 'display_data';\n",
              "          await google.colab.output.renderOutput(dataTable, element);\n",
              "          const docLink = document.createElement('div');\n",
              "          docLink.innerHTML = docLinkHtml;\n",
              "          element.appendChild(docLink);\n",
              "        }\n",
              "      </script>\n",
              "    </div>\n",
              "  </div>\n",
              "  "
            ],
            "text/plain": [
              "                                                name  host_id host_name  \\\n",
              "id                                                                        \n",
              "6283                                     Casa Al Sur    13310    Pamela   \n",
              "11508             Amazing Luxurious Apt-Palermo Soho    42762   Candela   \n",
              "12463            Room in Recoleta - awesome location    48799      Matt   \n",
              "13095  Standard Room at Palermo Viejo B&B w pvt Bath    50994     Ariel   \n",
              "13096             Standard Room in Palermo Viejo B&B    50994     Ariel   \n",
              "\n",
              "      neighbourhood  latitude  longitude        room_type  price  \\\n",
              "id                                                                 \n",
              "6283      Balvanera -34.60523  -58.41042  Entire home/apt   5113   \n",
              "11508       Palermo -34.58184  -58.42415  Entire home/apt   6647   \n",
              "12463      Recoleta -34.59777  -58.39664     Private room   2761   \n",
              "13095       Palermo -34.59348  -58.42949     Private room   2893   \n",
              "13096       Palermo -34.59348  -58.42949     Private room   2893   \n",
              "\n",
              "       minimum_nights  number_of_reviews  calculated_host_listings_count  \\\n",
              "id                                                                         \n",
              "6283                3                  1                               1   \n",
              "11508               2                 27                               1   \n",
              "12463               1                 20                               1   \n",
              "13095               1                  1                               7   \n",
              "13096               1                  0                               7   \n",
              "\n",
              "       availability_365  number_of_reviews_ltm  \n",
              "id                                              \n",
              "6283                365                      0  \n",
              "11508               236                      1  \n",
              "12463                 0                      0  \n",
              "13095               365                      0  \n",
              "13096               365                      0  "
            ]
          },
          "metadata": {},
          "execution_count": 14
        }
      ]
    },
    {
      "cell_type": "code",
      "source": [
        "# exibindo informações do dataset das entradas onde host_name é NaN\n",
        "df_buenos_aires[df_buenos_aires.host_name.isnull()]"
      ],
      "metadata": {
        "colab": {
          "base_uri": "https://localhost:8080/",
          "height": 1000
        },
        "id": "rIYjqhFXDRui",
        "outputId": "dc9dcf4a-1e4c-44c9-dfd3-3254806afe5d"
      },
      "execution_count": 15,
      "outputs": [
        {
          "output_type": "execute_result",
          "data": {
            "text/html": [
              "\n",
              "  <div id=\"df-d192fa50-21bb-42db-b455-66ffb45fd8ce\">\n",
              "    <div class=\"colab-df-container\">\n",
              "      <div>\n",
              "<style scoped>\n",
              "    .dataframe tbody tr th:only-of-type {\n",
              "        vertical-align: middle;\n",
              "    }\n",
              "\n",
              "    .dataframe tbody tr th {\n",
              "        vertical-align: top;\n",
              "    }\n",
              "\n",
              "    .dataframe thead th {\n",
              "        text-align: right;\n",
              "    }\n",
              "</style>\n",
              "<table border=\"1\" class=\"dataframe\">\n",
              "  <thead>\n",
              "    <tr style=\"text-align: right;\">\n",
              "      <th></th>\n",
              "      <th>name</th>\n",
              "      <th>host_id</th>\n",
              "      <th>host_name</th>\n",
              "      <th>neighbourhood</th>\n",
              "      <th>latitude</th>\n",
              "      <th>longitude</th>\n",
              "      <th>room_type</th>\n",
              "      <th>price</th>\n",
              "      <th>minimum_nights</th>\n",
              "      <th>number_of_reviews</th>\n",
              "      <th>calculated_host_listings_count</th>\n",
              "      <th>availability_365</th>\n",
              "      <th>number_of_reviews_ltm</th>\n",
              "    </tr>\n",
              "    <tr>\n",
              "      <th>id</th>\n",
              "      <th></th>\n",
              "      <th></th>\n",
              "      <th></th>\n",
              "      <th></th>\n",
              "      <th></th>\n",
              "      <th></th>\n",
              "      <th></th>\n",
              "      <th></th>\n",
              "      <th></th>\n",
              "      <th></th>\n",
              "      <th></th>\n",
              "      <th></th>\n",
              "      <th></th>\n",
              "    </tr>\n",
              "  </thead>\n",
              "  <tbody>\n",
              "    <tr>\n",
              "      <th>4661912</th>\n",
              "      <td>Cama para dos personas</td>\n",
              "      <td>10871683</td>\n",
              "      <td>NaN</td>\n",
              "      <td>Recoleta</td>\n",
              "      <td>-34.589270</td>\n",
              "      <td>-58.390770</td>\n",
              "      <td>Shared room</td>\n",
              "      <td>5113</td>\n",
              "      <td>1</td>\n",
              "      <td>0</td>\n",
              "      <td>1</td>\n",
              "      <td>365</td>\n",
              "      <td>0</td>\n",
              "    </tr>\n",
              "    <tr>\n",
              "      <th>18782977</th>\n",
              "      <td>Habitación individual 500 $ por noche San Telmo</td>\n",
              "      <td>130721844</td>\n",
              "      <td>NaN</td>\n",
              "      <td>San Telmo</td>\n",
              "      <td>-34.618660</td>\n",
              "      <td>-58.372240</td>\n",
              "      <td>Private room</td>\n",
              "      <td>500</td>\n",
              "      <td>5</td>\n",
              "      <td>1</td>\n",
              "      <td>3</td>\n",
              "      <td>24</td>\n",
              "      <td>0</td>\n",
              "    </tr>\n",
              "    <tr>\n",
              "      <th>20482168</th>\n",
              "      <td>Super 1 Bedroom Apartment,near tube! Palermo S...</td>\n",
              "      <td>77486799</td>\n",
              "      <td>NaN</td>\n",
              "      <td>Palermo</td>\n",
              "      <td>-34.583560</td>\n",
              "      <td>-58.420880</td>\n",
              "      <td>Entire home/apt</td>\n",
              "      <td>2439</td>\n",
              "      <td>1</td>\n",
              "      <td>58</td>\n",
              "      <td>2</td>\n",
              "      <td>116</td>\n",
              "      <td>1</td>\n",
              "    </tr>\n",
              "    <tr>\n",
              "      <th>23680793</th>\n",
              "      <td>Habitación individual baño privado casa compar...</td>\n",
              "      <td>101562668</td>\n",
              "      <td>NaN</td>\n",
              "      <td>Parque Avellaneda</td>\n",
              "      <td>-34.639010</td>\n",
              "      <td>-58.473730</td>\n",
              "      <td>Private room</td>\n",
              "      <td>1350</td>\n",
              "      <td>22</td>\n",
              "      <td>0</td>\n",
              "      <td>1</td>\n",
              "      <td>365</td>\n",
              "      <td>0</td>\n",
              "    </tr>\n",
              "    <tr>\n",
              "      <th>23901883</th>\n",
              "      <td>Excel 1 BDR APT COURT Area-Theatres 2 Blocks TUBE</td>\n",
              "      <td>77486799</td>\n",
              "      <td>NaN</td>\n",
              "      <td>San Nicolas</td>\n",
              "      <td>-34.602770</td>\n",
              "      <td>-58.390020</td>\n",
              "      <td>Entire home/apt</td>\n",
              "      <td>3486</td>\n",
              "      <td>1</td>\n",
              "      <td>35</td>\n",
              "      <td>2</td>\n",
              "      <td>295</td>\n",
              "      <td>0</td>\n",
              "    </tr>\n",
              "    <tr>\n",
              "      <th>27438808</th>\n",
              "      <td>Apartamento en Palermo</td>\n",
              "      <td>206783480</td>\n",
              "      <td>NaN</td>\n",
              "      <td>Palermo</td>\n",
              "      <td>-34.576570</td>\n",
              "      <td>-58.430180</td>\n",
              "      <td>Entire home/apt</td>\n",
              "      <td>2454</td>\n",
              "      <td>6</td>\n",
              "      <td>21</td>\n",
              "      <td>1</td>\n",
              "      <td>300</td>\n",
              "      <td>0</td>\n",
              "    </tr>\n",
              "    <tr>\n",
              "      <th>30333814</th>\n",
              "      <td>Apartamento para 6 personas en San Telmo</td>\n",
              "      <td>130721844</td>\n",
              "      <td>NaN</td>\n",
              "      <td>San Telmo</td>\n",
              "      <td>-34.616380</td>\n",
              "      <td>-58.370560</td>\n",
              "      <td>Entire home/apt</td>\n",
              "      <td>1020</td>\n",
              "      <td>5</td>\n",
              "      <td>0</td>\n",
              "      <td>3</td>\n",
              "      <td>269</td>\n",
              "      <td>0</td>\n",
              "    </tr>\n",
              "    <tr>\n",
              "      <th>33442042</th>\n",
              "      <td>Excelente dto 3 amb todo al frente, cerca de t...</td>\n",
              "      <td>246385359</td>\n",
              "      <td>NaN</td>\n",
              "      <td>Villa Devoto</td>\n",
              "      <td>-34.596900</td>\n",
              "      <td>-58.501570</td>\n",
              "      <td>Entire home/apt</td>\n",
              "      <td>3097</td>\n",
              "      <td>7</td>\n",
              "      <td>24</td>\n",
              "      <td>2</td>\n",
              "      <td>309</td>\n",
              "      <td>7</td>\n",
              "    </tr>\n",
              "    <tr>\n",
              "      <th>34414829</th>\n",
              "      <td>Habitación doble en San Telmo, Buenos Aires.</td>\n",
              "      <td>130721844</td>\n",
              "      <td>NaN</td>\n",
              "      <td>San Telmo</td>\n",
              "      <td>-34.617430</td>\n",
              "      <td>-58.370770</td>\n",
              "      <td>Private room</td>\n",
              "      <td>1900</td>\n",
              "      <td>3</td>\n",
              "      <td>7</td>\n",
              "      <td>3</td>\n",
              "      <td>90</td>\n",
              "      <td>0</td>\n",
              "    </tr>\n",
              "    <tr>\n",
              "      <th>37248004</th>\n",
              "      <td>GASCONCITO  Dpto a 50 m  del hospital.</td>\n",
              "      <td>22285522</td>\n",
              "      <td>NaN</td>\n",
              "      <td>Almagro</td>\n",
              "      <td>-34.604310</td>\n",
              "      <td>-58.423780</td>\n",
              "      <td>Entire home/apt</td>\n",
              "      <td>4000</td>\n",
              "      <td>3</td>\n",
              "      <td>0</td>\n",
              "      <td>1</td>\n",
              "      <td>48</td>\n",
              "      <td>0</td>\n",
              "    </tr>\n",
              "    <tr>\n",
              "      <th>40344202</th>\n",
              "      <td>Hermoso departamento en torre Lumiere, Palermo</td>\n",
              "      <td>185661165</td>\n",
              "      <td>NaN</td>\n",
              "      <td>Palermo</td>\n",
              "      <td>-34.574703</td>\n",
              "      <td>-58.437851</td>\n",
              "      <td>Entire home/apt</td>\n",
              "      <td>7159</td>\n",
              "      <td>5</td>\n",
              "      <td>7</td>\n",
              "      <td>1</td>\n",
              "      <td>162</td>\n",
              "      <td>1</td>\n",
              "    </tr>\n",
              "    <tr>\n",
              "      <th>50913425</th>\n",
              "      <td>Beautiful apartment in the heart of Buenos Aires.</td>\n",
              "      <td>316599097</td>\n",
              "      <td>NaN</td>\n",
              "      <td>Monserrat</td>\n",
              "      <td>-34.609880</td>\n",
              "      <td>-58.387260</td>\n",
              "      <td>Entire home/apt</td>\n",
              "      <td>2827</td>\n",
              "      <td>1</td>\n",
              "      <td>33</td>\n",
              "      <td>1</td>\n",
              "      <td>341</td>\n",
              "      <td>33</td>\n",
              "    </tr>\n",
              "    <tr>\n",
              "      <th>51786575</th>\n",
              "      <td>Cómodo 3 amb excelente ubicación, muy luminoso</td>\n",
              "      <td>246385359</td>\n",
              "      <td>NaN</td>\n",
              "      <td>Villa Devoto</td>\n",
              "      <td>-34.597090</td>\n",
              "      <td>-58.500990</td>\n",
              "      <td>Entire home/apt</td>\n",
              "      <td>2791</td>\n",
              "      <td>7</td>\n",
              "      <td>3</td>\n",
              "      <td>2</td>\n",
              "      <td>338</td>\n",
              "      <td>3</td>\n",
              "    </tr>\n",
              "  </tbody>\n",
              "</table>\n",
              "</div>\n",
              "      <button class=\"colab-df-convert\" onclick=\"convertToInteractive('df-d192fa50-21bb-42db-b455-66ffb45fd8ce')\"\n",
              "              title=\"Convert this dataframe to an interactive table.\"\n",
              "              style=\"display:none;\">\n",
              "        \n",
              "  <svg xmlns=\"http://www.w3.org/2000/svg\" height=\"24px\"viewBox=\"0 0 24 24\"\n",
              "       width=\"24px\">\n",
              "    <path d=\"M0 0h24v24H0V0z\" fill=\"none\"/>\n",
              "    <path d=\"M18.56 5.44l.94 2.06.94-2.06 2.06-.94-2.06-.94-.94-2.06-.94 2.06-2.06.94zm-11 1L8.5 8.5l.94-2.06 2.06-.94-2.06-.94L8.5 2.5l-.94 2.06-2.06.94zm10 10l.94 2.06.94-2.06 2.06-.94-2.06-.94-.94-2.06-.94 2.06-2.06.94z\"/><path d=\"M17.41 7.96l-1.37-1.37c-.4-.4-.92-.59-1.43-.59-.52 0-1.04.2-1.43.59L10.3 9.45l-7.72 7.72c-.78.78-.78 2.05 0 2.83L4 21.41c.39.39.9.59 1.41.59.51 0 1.02-.2 1.41-.59l7.78-7.78 2.81-2.81c.8-.78.8-2.07 0-2.86zM5.41 20L4 18.59l7.72-7.72 1.47 1.35L5.41 20z\"/>\n",
              "  </svg>\n",
              "      </button>\n",
              "      \n",
              "  <style>\n",
              "    .colab-df-container {\n",
              "      display:flex;\n",
              "      flex-wrap:wrap;\n",
              "      gap: 12px;\n",
              "    }\n",
              "\n",
              "    .colab-df-convert {\n",
              "      background-color: #E8F0FE;\n",
              "      border: none;\n",
              "      border-radius: 50%;\n",
              "      cursor: pointer;\n",
              "      display: none;\n",
              "      fill: #1967D2;\n",
              "      height: 32px;\n",
              "      padding: 0 0 0 0;\n",
              "      width: 32px;\n",
              "    }\n",
              "\n",
              "    .colab-df-convert:hover {\n",
              "      background-color: #E2EBFA;\n",
              "      box-shadow: 0px 1px 2px rgba(60, 64, 67, 0.3), 0px 1px 3px 1px rgba(60, 64, 67, 0.15);\n",
              "      fill: #174EA6;\n",
              "    }\n",
              "\n",
              "    [theme=dark] .colab-df-convert {\n",
              "      background-color: #3B4455;\n",
              "      fill: #D2E3FC;\n",
              "    }\n",
              "\n",
              "    [theme=dark] .colab-df-convert:hover {\n",
              "      background-color: #434B5C;\n",
              "      box-shadow: 0px 1px 3px 1px rgba(0, 0, 0, 0.15);\n",
              "      filter: drop-shadow(0px 1px 2px rgba(0, 0, 0, 0.3));\n",
              "      fill: #FFFFFF;\n",
              "    }\n",
              "  </style>\n",
              "\n",
              "      <script>\n",
              "        const buttonEl =\n",
              "          document.querySelector('#df-d192fa50-21bb-42db-b455-66ffb45fd8ce button.colab-df-convert');\n",
              "        buttonEl.style.display =\n",
              "          google.colab.kernel.accessAllowed ? 'block' : 'none';\n",
              "\n",
              "        async function convertToInteractive(key) {\n",
              "          const element = document.querySelector('#df-d192fa50-21bb-42db-b455-66ffb45fd8ce');\n",
              "          const dataTable =\n",
              "            await google.colab.kernel.invokeFunction('convertToInteractive',\n",
              "                                                     [key], {});\n",
              "          if (!dataTable) return;\n",
              "\n",
              "          const docLinkHtml = 'Like what you see? Visit the ' +\n",
              "            '<a target=\"_blank\" href=https://colab.research.google.com/notebooks/data_table.ipynb>data table notebook</a>'\n",
              "            + ' to learn more about interactive tables.';\n",
              "          element.innerHTML = '';\n",
              "          dataTable['output_type'] = 'display_data';\n",
              "          await google.colab.output.renderOutput(dataTable, element);\n",
              "          const docLink = document.createElement('div');\n",
              "          docLink.innerHTML = docLinkHtml;\n",
              "          element.appendChild(docLink);\n",
              "        }\n",
              "      </script>\n",
              "    </div>\n",
              "  </div>\n",
              "  "
            ],
            "text/plain": [
              "                                                       name    host_id  \\\n",
              "id                                                                       \n",
              "4661912                              Cama para dos personas   10871683   \n",
              "18782977    Habitación individual 500 $ por noche San Telmo  130721844   \n",
              "20482168  Super 1 Bedroom Apartment,near tube! Palermo S...   77486799   \n",
              "23680793  Habitación individual baño privado casa compar...  101562668   \n",
              "23901883  Excel 1 BDR APT COURT Area-Theatres 2 Blocks TUBE   77486799   \n",
              "27438808                             Apartamento en Palermo  206783480   \n",
              "30333814           Apartamento para 6 personas en San Telmo  130721844   \n",
              "33442042  Excelente dto 3 amb todo al frente, cerca de t...  246385359   \n",
              "34414829       Habitación doble en San Telmo, Buenos Aires.  130721844   \n",
              "37248004             GASCONCITO  Dpto a 50 m  del hospital.   22285522   \n",
              "40344202     Hermoso departamento en torre Lumiere, Palermo  185661165   \n",
              "50913425  Beautiful apartment in the heart of Buenos Aires.  316599097   \n",
              "51786575     Cómodo 3 amb excelente ubicación, muy luminoso  246385359   \n",
              "\n",
              "         host_name      neighbourhood   latitude  longitude        room_type  \\\n",
              "id                                                                             \n",
              "4661912        NaN           Recoleta -34.589270 -58.390770      Shared room   \n",
              "18782977       NaN          San Telmo -34.618660 -58.372240     Private room   \n",
              "20482168       NaN            Palermo -34.583560 -58.420880  Entire home/apt   \n",
              "23680793       NaN  Parque Avellaneda -34.639010 -58.473730     Private room   \n",
              "23901883       NaN        San Nicolas -34.602770 -58.390020  Entire home/apt   \n",
              "27438808       NaN            Palermo -34.576570 -58.430180  Entire home/apt   \n",
              "30333814       NaN          San Telmo -34.616380 -58.370560  Entire home/apt   \n",
              "33442042       NaN       Villa Devoto -34.596900 -58.501570  Entire home/apt   \n",
              "34414829       NaN          San Telmo -34.617430 -58.370770     Private room   \n",
              "37248004       NaN            Almagro -34.604310 -58.423780  Entire home/apt   \n",
              "40344202       NaN            Palermo -34.574703 -58.437851  Entire home/apt   \n",
              "50913425       NaN          Monserrat -34.609880 -58.387260  Entire home/apt   \n",
              "51786575       NaN       Villa Devoto -34.597090 -58.500990  Entire home/apt   \n",
              "\n",
              "          price  minimum_nights  number_of_reviews  \\\n",
              "id                                                   \n",
              "4661912    5113               1                  0   \n",
              "18782977    500               5                  1   \n",
              "20482168   2439               1                 58   \n",
              "23680793   1350              22                  0   \n",
              "23901883   3486               1                 35   \n",
              "27438808   2454               6                 21   \n",
              "30333814   1020               5                  0   \n",
              "33442042   3097               7                 24   \n",
              "34414829   1900               3                  7   \n",
              "37248004   4000               3                  0   \n",
              "40344202   7159               5                  7   \n",
              "50913425   2827               1                 33   \n",
              "51786575   2791               7                  3   \n",
              "\n",
              "          calculated_host_listings_count  availability_365  \\\n",
              "id                                                           \n",
              "4661912                                1               365   \n",
              "18782977                               3                24   \n",
              "20482168                               2               116   \n",
              "23680793                               1               365   \n",
              "23901883                               2               295   \n",
              "27438808                               1               300   \n",
              "30333814                               3               269   \n",
              "33442042                               2               309   \n",
              "34414829                               3                90   \n",
              "37248004                               1                48   \n",
              "40344202                               1               162   \n",
              "50913425                               1               341   \n",
              "51786575                               2               338   \n",
              "\n",
              "          number_of_reviews_ltm  \n",
              "id                               \n",
              "4661912                       0  \n",
              "18782977                      0  \n",
              "20482168                      1  \n",
              "23680793                      0  \n",
              "23901883                      0  \n",
              "27438808                      0  \n",
              "30333814                      0  \n",
              "33442042                      7  \n",
              "34414829                      0  \n",
              "37248004                      0  \n",
              "40344202                      1  \n",
              "50913425                     33  \n",
              "51786575                      3  "
            ]
          },
          "metadata": {},
          "execution_count": 15
        }
      ]
    },
    {
      "cell_type": "code",
      "source": [
        "# salvando em variável dados de host_name NaN\n",
        "host_name_null = df_buenos_aires[df_buenos_aires.host_name.isnull()]"
      ],
      "metadata": {
        "id": "B4R7HQ0KA4bS"
      },
      "execution_count": 16,
      "outputs": []
    },
    {
      "cell_type": "code",
      "source": [
        "# analisando incidência de host_name nulo com mesmo host_id de linha que contenha nome do anfitrião\n"
      ],
      "metadata": {
        "id": "rMPLuKFBDKEh"
      },
      "execution_count": 17,
      "outputs": []
    },
    {
      "cell_type": "markdown",
      "metadata": {
        "id": "iHXvvHIxaoNc"
      },
      "source": [
        "### **Q3. Qual o tipo de distribuição das variáveis?** "
      ]
    },
    {
      "cell_type": "code",
      "metadata": {
        "id": "q2wWSfeRbmBo",
        "colab": {
          "base_uri": "https://localhost:8080/",
          "height": 900
        },
        "outputId": "0c782004-fd22-46dd-d202-b2353f504ee3"
      },
      "source": [
        "# plotar o histograma das variáveis numéricas\n",
        "df_buenos_aires.hist(bins=10, figsize=(12,12))"
      ],
      "execution_count": 18,
      "outputs": [
        {
          "output_type": "execute_result",
          "data": {
            "text/plain": [
              "array([[<matplotlib.axes._subplots.AxesSubplot object at 0x7fe4d2d0ac50>,\n",
              "        <matplotlib.axes._subplots.AxesSubplot object at 0x7fe4d2bfea10>,\n",
              "        <matplotlib.axes._subplots.AxesSubplot object at 0x7fe4d2bd14d0>],\n",
              "       [<matplotlib.axes._subplots.AxesSubplot object at 0x7fe4d2b88ad0>,\n",
              "        <matplotlib.axes._subplots.AxesSubplot object at 0x7fe4d2b4c110>,\n",
              "        <matplotlib.axes._subplots.AxesSubplot object at 0x7fe4d2b01710>],\n",
              "       [<matplotlib.axes._subplots.AxesSubplot object at 0x7fe4d2ab7d90>,\n",
              "        <matplotlib.axes._subplots.AxesSubplot object at 0x7fe4d2a7b310>,\n",
              "        <matplotlib.axes._subplots.AxesSubplot object at 0x7fe4d2a7b350>]],\n",
              "      dtype=object)"
            ]
          },
          "metadata": {},
          "execution_count": 18
        },
        {
          "output_type": "display_data",
          "data": {
            "image/png": "[encoded data removed]",
            "text/plain": [
              "<Figure size 864x864 with 9 Axes>"
            ]
          },
          "metadata": {
            "needs_background": "light"
          }
        }
      ]
    },
    {
      "cell_type": "markdown",
      "metadata": {
        "id": "7x4aw1j5wNmn"
      },
      "source": [
        "### **Q4. Qual a média dos preços de aluguel?**"
      ]
    },
    {
      "cell_type": "code",
      "metadata": {
        "id": "ff-8gUahLk-C",
        "colab": {
          "base_uri": "https://localhost:8080/"
        },
        "outputId": "6b7736b2-9b98-4050-d621-ab15a8449a45"
      },
      "source": [
        "# ver a média da coluna `price``\n",
        "df_buenos_aires.price.describe()"
      ],
      "execution_count": 19,
      "outputs": [
        {
          "output_type": "execute_result",
          "data": {
            "text/plain": [
              "count    1.731800e+04\n",
              "mean     6.587419e+03\n",
              "std      3.207039e+04\n",
              "min      0.000000e+00\n",
              "25%      2.162000e+03\n",
              "50%      3.500000e+03\n",
              "75%      5.624000e+03\n",
              "max      1.022578e+06\n",
              "Name: price, dtype: float64"
            ]
          },
          "metadata": {},
          "execution_count": 19
        }
      ]
    },
    {
      "cell_type": "markdown",
      "metadata": {
        "id": "IXn2oIo5qx-w"
      },
      "source": [
        "### **Q4. Qual a correlação existente entre as variáveis**"
      ]
    },
    {
      "cell_type": "code",
      "metadata": {
        "id": "x2ayzBajqxyd"
      },
      "source": [
        "# criar uma matriz de correlação\n",
        "\n",
        "# mostrar a matriz de correlação\n"
      ],
      "execution_count": 20,
      "outputs": []
    },
    {
      "cell_type": "code",
      "metadata": {
        "id": "91UujDr6ueqE",
        "colab": {
          "base_uri": "https://localhost:8080/",
          "height": 429
        },
        "outputId": "d4067f33-b475-42c9-d874-24f92f4981c4"
      },
      "source": [
        "# plotar um heatmap a partir das correlações\n",
        "sns.heatmap(df_buenos_aires.corr(), annot = False)"
      ],
      "execution_count": 21,
      "outputs": [
        {
          "output_type": "execute_result",
          "data": {
            "text/plain": [
              "<matplotlib.axes._subplots.AxesSubplot at 0x7fe4d275fa90>"
            ]
          },
          "metadata": {},
          "execution_count": 21
        },
        {
          "output_type": "display_data",
          "data": {
            "image/png": "[encoded data removed]",
            "text/plain": [
              "<Figure size 432x288 with 2 Axes>"
            ]
          },
          "metadata": {
            "needs_background": "light"
          }
        }
      ]
    },
    {
      "cell_type": "markdown",
      "metadata": {
        "id": "7b6RMWpuHKN-"
      },
      "source": [
        "### **Q5. Qual o tipo de imóvel mais alugado no Airbnb?**"
      ]
    },
    {
      "cell_type": "code",
      "metadata": {
        "id": "ueLPNWvPHgfB"
      },
      "source": [
        "# mostrar a quantidade de cada tipo de imóvel disponível\n"
      ],
      "execution_count": 22,
      "outputs": []
    },
    {
      "cell_type": "code",
      "metadata": {
        "id": "EvwoO-XAHhIm"
      },
      "source": [
        "# mostrar a porcentagem de cada tipo de imóvel disponível\n"
      ],
      "execution_count": 23,
      "outputs": []
    },
    {
      "cell_type": "markdown",
      "metadata": {
        "id": "MFa5NbnLJMcd"
      },
      "source": [
        "### **Q6. Qual a localidade mais cara do dataset?**\n",
        "\n"
      ]
    },
    {
      "cell_type": "code",
      "metadata": {
        "id": "MD_xa143JZpi"
      },
      "source": [
        "# ver preços por bairros, na média\n"
      ],
      "execution_count": 24,
      "outputs": []
    },
    {
      "cell_type": "code",
      "metadata": {
        "id": "UxVJqJ_3W59I"
      },
      "source": [
        "# plotar os imóveis pela latitude-longitude\n"
      ],
      "execution_count": 25,
      "outputs": []
    },
    {
      "cell_type": "markdown",
      "metadata": {
        "id": "vTneAMRUYvr1"
      },
      "source": [
        "### **Q7. Qual é a média do mínimo de noites para aluguel (minimum_nights)?**"
      ]
    },
    {
      "cell_type": "code",
      "metadata": {
        "id": "_VzNhrEgY82N",
        "colab": {
          "base_uri": "https://localhost:8080/"
        },
        "outputId": "b4074966-8eee-4e2f-cb32-4cebd443fa55"
      },
      "source": [
        "# ver a média da coluna `minimum_nights``\n",
        "df_buenos_aires.minimum_nights.describe()"
      ],
      "execution_count": 26,
      "outputs": [
        {
          "output_type": "execute_result",
          "data": {
            "text/plain": [
              "count    17318.000000\n",
              "mean         7.508719\n",
              "std         24.491571\n",
              "min          1.000000\n",
              "25%          2.000000\n",
              "50%          3.000000\n",
              "75%          5.000000\n",
              "max       1000.000000\n",
              "Name: minimum_nights, dtype: float64"
            ]
          },
          "metadata": {},
          "execution_count": 26
        }
      ]
    },
    {
      "cell_type": "markdown",
      "metadata": {
        "id": "GkvAg623RjoR"
      },
      "source": [
        "## Conclusões\n"
      ]
    },
    {
      "cell_type": "markdown",
      "metadata": {
        "id": "rbZ3Hsy9Ypw8"
      },
      "source": [
        ""
      ]
    }
  ]
}